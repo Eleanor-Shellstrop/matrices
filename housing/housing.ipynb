{
 "cells": [
  {
   "cell_type": "markdown",
   "id": "52998e27",
   "metadata": {},
   "source": [
    "# Linear Regression Single Variable\n",
    "\n",
    "Following from \"Machine Learning Tutorial Python,\" YouTube video by codebasics, [click here to view](https://youtu.be/8jazNUpO3lQ). Finding the square error function to predict house prices.\n",
    "\n",
    "This notebook and work is not taken directly from the video. Differences:\n",
    "* My own csv from researching housing prices in my neighborhood\n",
    "* Adding slope function\n",
    "* Creating dataframe for homes to predict (instead of csv)\n",
    "\n",
    "Data taken from housing prices in my area, retrieved from Zillow on 12/9/2021."
   ]
  },
  {
   "cell_type": "code",
   "execution_count": 1,
   "id": "cca835a2",
   "metadata": {},
   "outputs": [],
   "source": [
    "import pandas as pd \n",
    "import numpy as np \n",
    "import matplotlib.pyplot as plt \n",
    "from sklearn import linear_model "
   ]
  },
  {
   "cell_type": "code",
   "execution_count": 2,
   "id": "776a7fd1",
   "metadata": {},
   "outputs": [
    {
     "data": {
      "text/html": [
       "<div>\n",
       "<style scoped>\n",
       "    .dataframe tbody tr th:only-of-type {\n",
       "        vertical-align: middle;\n",
       "    }\n",
       "\n",
       "    .dataframe tbody tr th {\n",
       "        vertical-align: top;\n",
       "    }\n",
       "\n",
       "    .dataframe thead th {\n",
       "        text-align: right;\n",
       "    }\n",
       "</style>\n",
       "<table border=\"1\" class=\"dataframe\">\n",
       "  <thead>\n",
       "    <tr style=\"text-align: right;\">\n",
       "      <th></th>\n",
       "      <th>sell_date</th>\n",
       "      <th>price_k</th>\n",
       "      <th>sqft</th>\n",
       "      <th>bed</th>\n",
       "      <th>bath</th>\n",
       "      <th>lot</th>\n",
       "      <th>year</th>\n",
       "      <th>garage_cars</th>\n",
       "    </tr>\n",
       "  </thead>\n",
       "  <tbody>\n",
       "    <tr>\n",
       "      <th>0</th>\n",
       "      <td>12/3/2021</td>\n",
       "      <td>447</td>\n",
       "      <td>3395</td>\n",
       "      <td>4</td>\n",
       "      <td>4</td>\n",
       "      <td>0.35</td>\n",
       "      <td>1997</td>\n",
       "      <td>2</td>\n",
       "    </tr>\n",
       "    <tr>\n",
       "      <th>1</th>\n",
       "      <td>12/3/2021</td>\n",
       "      <td>365</td>\n",
       "      <td>2750</td>\n",
       "      <td>3</td>\n",
       "      <td>4</td>\n",
       "      <td>0.25</td>\n",
       "      <td>1992</td>\n",
       "      <td>2</td>\n",
       "    </tr>\n",
       "    <tr>\n",
       "      <th>2</th>\n",
       "      <td>12/1/2021</td>\n",
       "      <td>450</td>\n",
       "      <td>2891</td>\n",
       "      <td>3</td>\n",
       "      <td>3</td>\n",
       "      <td>0.16</td>\n",
       "      <td>2017</td>\n",
       "      <td>2</td>\n",
       "    </tr>\n",
       "    <tr>\n",
       "      <th>3</th>\n",
       "      <td>11/29/2021</td>\n",
       "      <td>235</td>\n",
       "      <td>1392</td>\n",
       "      <td>2</td>\n",
       "      <td>1</td>\n",
       "      <td>0.20</td>\n",
       "      <td>1947</td>\n",
       "      <td>2</td>\n",
       "    </tr>\n",
       "    <tr>\n",
       "      <th>4</th>\n",
       "      <td>11/29/2021</td>\n",
       "      <td>145</td>\n",
       "      <td>1094</td>\n",
       "      <td>3</td>\n",
       "      <td>1</td>\n",
       "      <td>0.24</td>\n",
       "      <td>1921</td>\n",
       "      <td>0</td>\n",
       "    </tr>\n",
       "    <tr>\n",
       "      <th>5</th>\n",
       "      <td>11/15/2021</td>\n",
       "      <td>262</td>\n",
       "      <td>2068</td>\n",
       "      <td>3</td>\n",
       "      <td>2</td>\n",
       "      <td>0.23</td>\n",
       "      <td>1955</td>\n",
       "      <td>0</td>\n",
       "    </tr>\n",
       "    <tr>\n",
       "      <th>6</th>\n",
       "      <td>11/12/2021</td>\n",
       "      <td>444</td>\n",
       "      <td>3016</td>\n",
       "      <td>5</td>\n",
       "      <td>3</td>\n",
       "      <td>0.21</td>\n",
       "      <td>2019</td>\n",
       "      <td>2</td>\n",
       "    </tr>\n",
       "  </tbody>\n",
       "</table>\n",
       "</div>"
      ],
      "text/plain": [
       "    sell_date  price_k  sqft  bed  bath   lot  year  garage_cars\n",
       "0   12/3/2021      447  3395    4     4  0.35  1997            2\n",
       "1   12/3/2021      365  2750    3     4  0.25  1992            2\n",
       "2   12/1/2021      450  2891    3     3  0.16  2017            2\n",
       "3  11/29/2021      235  1392    2     1  0.20  1947            2\n",
       "4  11/29/2021      145  1094    3     1  0.24  1921            0\n",
       "5  11/15/2021      262  2068    3     2  0.23  1955            0\n",
       "6  11/12/2021      444  3016    5     3  0.21  2019            2"
      ]
     },
     "execution_count": 2,
     "metadata": {},
     "output_type": "execute_result"
    }
   ],
   "source": [
    "df = pd.read_csv(\"home_prices.csv\")\n",
    "df"
   ]
  },
  {
   "cell_type": "code",
   "execution_count": 3,
   "id": "64a787b0",
   "metadata": {},
   "outputs": [
    {
     "data": {
      "text/plain": [
       "<matplotlib.collections.PathCollection at 0x1f9f82817c0>"
      ]
     },
     "execution_count": 3,
     "metadata": {},
     "output_type": "execute_result"
    },
    {
     "data": {
      "image/png": "[encoded data removed]",
      "text/plain": [
       "<Figure size 432x288 with 1 Axes>"
      ]
     },
     "metadata": {
      "needs_background": "light"
     },
     "output_type": "display_data"
    }
   ],
   "source": [
    "# Plot the square footage and selling price\n",
    "\n",
    "%matplotlib inline\n",
    "\n",
    "plt.xlabel('Living Area, Square Feet')\n",
    "plt.ylabel('Price in 1,000s, USD')\n",
    "plt.scatter(df.sqft, df.price_k, marker=\"+\")"
   ]
  },
  {
   "cell_type": "markdown",
   "id": "e689e23d",
   "metadata": {},
   "source": [
    "With hypothesis:\n",
    "\n",
    "$ h\\theta(x) = \\theta_{0} + \\theta_{1}x $\n",
    "\n",
    "And parameters:\n",
    "\n",
    "$ \\theta_{0}, \\theta_{1} $\n",
    "\n",
    "We can follow the cost function:\n",
    "\n",
    "$ J(\\theta_{0}, \\theta_{1}) =  \\frac{1}{2m}\\sum_{i=1}^{m}(h\\theta(x^{(i)}) - y^{(i)}) $"
   ]
  },
  {
   "cell_type": "code",
   "execution_count": 4,
   "id": "b2686b6d",
   "metadata": {},
   "outputs": [
    {
     "data": {
      "text/plain": [
       "LinearRegression()"
      ]
     },
     "execution_count": 4,
     "metadata": {},
     "output_type": "execute_result"
    }
   ],
   "source": [
    "#Built in L.R. method\n",
    "reg = linear_model.LinearRegression()\n",
    "\n",
    "reg.fit(df[['sqft']], df.price_k)"
   ]
  },
  {
   "cell_type": "code",
   "execution_count": 5,
   "id": "22718e77",
   "metadata": {},
   "outputs": [
    {
     "data": {
      "text/plain": [
       "array([461.33346816])"
      ]
     },
     "execution_count": 5,
     "metadata": {},
     "output_type": "execute_result"
    }
   ],
   "source": [
    "# Predict home price if square feet = 3300\n",
    "reg.predict([[3300]])"
   ]
  },
  {
   "cell_type": "code",
   "execution_count": 6,
   "id": "abc3445b",
   "metadata": {},
   "outputs": [
    {
     "name": "stdout",
     "output_type": "stream",
     "text": [
      "[0.13571516]\n",
      "13.47342588804429\n"
     ]
    }
   ],
   "source": [
    "# Slope y = mx + b\n",
    "# This model can predict coefficient m and intercept b\n",
    "\n",
    "print(reg.coef_)  # array\n",
    "print(reg.intercept_)"
   ]
  },
  {
   "cell_type": "code",
   "execution_count": 7,
   "id": "491120d1",
   "metadata": {},
   "outputs": [],
   "source": [
    "# Make function to complete slope\n",
    "\n",
    "def slope(area):\n",
    "    m = reg.predict([[area]])\n",
    "    x = reg.coef_\n",
    "    b = reg.intercept_\n",
    "    return((m * x) + b) "
   ]
  },
  {
   "cell_type": "code",
   "execution_count": 8,
   "id": "fb4d0edd",
   "metadata": {},
   "outputs": [
    {
     "data": {
      "text/plain": [
       "array([76.08337333])"
      ]
     },
     "execution_count": 8,
     "metadata": {},
     "output_type": "execute_result"
    }
   ],
   "source": [
    "# Test 1\n",
    "slope(3300)"
   ]
  },
  {
   "cell_type": "code",
   "execution_count": 9,
   "id": "96a7ba1e",
   "metadata": {},
   "outputs": [
    {
     "data": {
      "text/plain": [
       "array([61.34848867])"
      ]
     },
     "execution_count": 9,
     "metadata": {},
     "output_type": "execute_result"
    }
   ],
   "source": [
    "# Test 2\n",
    "slope(2500)"
   ]
  },
  {
   "cell_type": "code",
   "execution_count": 10,
   "id": "13616db6",
   "metadata": {
    "scrolled": true
   },
   "outputs": [
    {
     "data": {
      "text/html": [
       "<div>\n",
       "<style scoped>\n",
       "    .dataframe tbody tr th:only-of-type {\n",
       "        vertical-align: middle;\n",
       "    }\n",
       "\n",
       "    .dataframe tbody tr th {\n",
       "        vertical-align: top;\n",
       "    }\n",
       "\n",
       "    .dataframe thead th {\n",
       "        text-align: right;\n",
       "    }\n",
       "</style>\n",
       "<table border=\"1\" class=\"dataframe\">\n",
       "  <thead>\n",
       "    <tr style=\"text-align: right;\">\n",
       "      <th></th>\n",
       "      <th>area</th>\n",
       "    </tr>\n",
       "  </thead>\n",
       "  <tbody>\n",
       "    <tr>\n",
       "      <th>0</th>\n",
       "      <td>900</td>\n",
       "    </tr>\n",
       "    <tr>\n",
       "      <th>1</th>\n",
       "      <td>1200</td>\n",
       "    </tr>\n",
       "    <tr>\n",
       "      <th>2</th>\n",
       "      <td>1500</td>\n",
       "    </tr>\n",
       "    <tr>\n",
       "      <th>3</th>\n",
       "      <td>1750</td>\n",
       "    </tr>\n",
       "    <tr>\n",
       "      <th>4</th>\n",
       "      <td>2000</td>\n",
       "    </tr>\n",
       "    <tr>\n",
       "      <th>5</th>\n",
       "      <td>2500</td>\n",
       "    </tr>\n",
       "    <tr>\n",
       "      <th>6</th>\n",
       "      <td>3000</td>\n",
       "    </tr>\n",
       "    <tr>\n",
       "      <th>7</th>\n",
       "      <td>3500</td>\n",
       "    </tr>\n",
       "    <tr>\n",
       "      <th>8</th>\n",
       "      <td>4000</td>\n",
       "    </tr>\n",
       "    <tr>\n",
       "      <th>9</th>\n",
       "      <td>4500</td>\n",
       "    </tr>\n",
       "    <tr>\n",
       "      <th>10</th>\n",
       "      <td>5000</td>\n",
       "    </tr>\n",
       "  </tbody>\n",
       "</table>\n",
       "</div>"
      ],
      "text/plain": [
       "    area\n",
       "0    900\n",
       "1   1200\n",
       "2   1500\n",
       "3   1750\n",
       "4   2000\n",
       "5   2500\n",
       "6   3000\n",
       "7   3500\n",
       "8   4000\n",
       "9   4500\n",
       "10  5000"
      ]
     },
     "execution_count": 10,
     "metadata": {},
     "output_type": "execute_result"
    }
   ],
   "source": [
    "# New df of house square footage that we want to predit price for\n",
    "\n",
    "d = {'area': [900, 1200, 1500, 1750, 2000, 2500, 3000, 3500, 4000, 4500, 5000]}\n",
    "df2 = pd.DataFrame(data=d)\n",
    "df2"
   ]
  },
  {
   "cell_type": "code",
   "execution_count": 11,
   "id": "37677111",
   "metadata": {},
   "outputs": [],
   "source": [
    "prices = reg.predict(np.array(df2))"
   ]
  },
  {
   "cell_type": "code",
   "execution_count": 12,
   "id": "77b447e6",
   "metadata": {},
   "outputs": [
    {
     "data": {
      "text/plain": [
       "array([135.61707378, 176.33162308, 217.04617238, 250.97496346,\n",
       "       284.90375454, 352.7613367 , 420.61891886, 488.47650103,\n",
       "       556.33408319, 624.19166535, 692.04924751])"
      ]
     },
     "execution_count": 12,
     "metadata": {},
     "output_type": "execute_result"
    }
   ],
   "source": [
    "prices"
   ]
  },
  {
   "cell_type": "code",
   "execution_count": 13,
   "id": "e9907639",
   "metadata": {},
   "outputs": [
    {
     "data": {
      "text/html": [
       "<div>\n",
       "<style scoped>\n",
       "    .dataframe tbody tr th:only-of-type {\n",
       "        vertical-align: middle;\n",
       "    }\n",
       "\n",
       "    .dataframe tbody tr th {\n",
       "        vertical-align: top;\n",
       "    }\n",
       "\n",
       "    .dataframe thead th {\n",
       "        text-align: right;\n",
       "    }\n",
       "</style>\n",
       "<table border=\"1\" class=\"dataframe\">\n",
       "  <thead>\n",
       "    <tr style=\"text-align: right;\">\n",
       "      <th></th>\n",
       "      <th>area</th>\n",
       "      <th>est_price_in_k</th>\n",
       "    </tr>\n",
       "  </thead>\n",
       "  <tbody>\n",
       "    <tr>\n",
       "      <th>0</th>\n",
       "      <td>900</td>\n",
       "      <td>135.617074</td>\n",
       "    </tr>\n",
       "    <tr>\n",
       "      <th>1</th>\n",
       "      <td>1200</td>\n",
       "      <td>176.331623</td>\n",
       "    </tr>\n",
       "    <tr>\n",
       "      <th>2</th>\n",
       "      <td>1500</td>\n",
       "      <td>217.046172</td>\n",
       "    </tr>\n",
       "    <tr>\n",
       "      <th>3</th>\n",
       "      <td>1750</td>\n",
       "      <td>250.974963</td>\n",
       "    </tr>\n",
       "    <tr>\n",
       "      <th>4</th>\n",
       "      <td>2000</td>\n",
       "      <td>284.903755</td>\n",
       "    </tr>\n",
       "    <tr>\n",
       "      <th>5</th>\n",
       "      <td>2500</td>\n",
       "      <td>352.761337</td>\n",
       "    </tr>\n",
       "    <tr>\n",
       "      <th>6</th>\n",
       "      <td>3000</td>\n",
       "      <td>420.618919</td>\n",
       "    </tr>\n",
       "    <tr>\n",
       "      <th>7</th>\n",
       "      <td>3500</td>\n",
       "      <td>488.476501</td>\n",
       "    </tr>\n",
       "    <tr>\n",
       "      <th>8</th>\n",
       "      <td>4000</td>\n",
       "      <td>556.334083</td>\n",
       "    </tr>\n",
       "    <tr>\n",
       "      <th>9</th>\n",
       "      <td>4500</td>\n",
       "      <td>624.191665</td>\n",
       "    </tr>\n",
       "    <tr>\n",
       "      <th>10</th>\n",
       "      <td>5000</td>\n",
       "      <td>692.049248</td>\n",
       "    </tr>\n",
       "  </tbody>\n",
       "</table>\n",
       "</div>"
      ],
      "text/plain": [
       "    area  est_price_in_k\n",
       "0    900      135.617074\n",
       "1   1200      176.331623\n",
       "2   1500      217.046172\n",
       "3   1750      250.974963\n",
       "4   2000      284.903755\n",
       "5   2500      352.761337\n",
       "6   3000      420.618919\n",
       "7   3500      488.476501\n",
       "8   4000      556.334083\n",
       "9   4500      624.191665\n",
       "10  5000      692.049248"
      ]
     },
     "execution_count": 13,
     "metadata": {},
     "output_type": "execute_result"
    }
   ],
   "source": [
    "df2['est_price_in_k'] = prices\n",
    "df2"
   ]
  },
  {
   "cell_type": "code",
   "execution_count": 17,
   "id": "ac6def7b",
   "metadata": {},
   "outputs": [
    {
     "data": {
      "text/plain": [
       "<matplotlib.legend.Legend at 0x1f9f8b776a0>"
      ]
     },
     "execution_count": 17,
     "metadata": {},
     "output_type": "execute_result"
    },
    {
     "data": {
      "image/png": "[encoded data removed]",
      "text/plain": [
       "<Figure size 432x288 with 1 Axes>"
      ]
     },
     "metadata": {
      "needs_background": "light"
     },
     "output_type": "display_data"
    }
   ],
   "source": [
    "# New chart with actual, predicted \n",
    "\n",
    "%matplotlib inline\n",
    "\n",
    "# Actual prices\n",
    "plt.xlabel('Living Area, Square Feet')\n",
    "plt.ylabel('Price in 1,000s, USD')\n",
    "plt.scatter(df.sqft, df.price_k, marker=\"+\", label=\"Actual house prices\")\n",
    "\n",
    "# Predicted prices\n",
    "plt.plot(df2.area, df2.est_price_in_k, \"y--+\", label=\"Predicted house prices\")\n",
    "plt.legend()"
   ]
  }
 ],
 "metadata": {
  "kernelspec": {
   "display_name": "Python 3 (ipykernel)",
   "language": "python",
   "name": "python3"
  },
  "language_info": {
   "codemirror_mode": {
    "name": "ipython",
    "version": 3
   },
   "file_extension": ".py",
   "mimetype": "text/x-python",
   "name": "python",
   "nbconvert_exporter": "python",
   "pygments_lexer": "ipython3",
   "version": "3.8.11"
  }
 },
 "nbformat": 4,
 "nbformat_minor": 5
}
