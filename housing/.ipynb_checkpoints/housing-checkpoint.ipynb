{
 "cells": [
  {
   "cell_type": "markdown",
   "id": "52998e27",
   "metadata": {},
   "source": [
    "# Linear Regression Single Variable\n",
    "\n",
    "Following from \"Machine Learning Tutorial Python,\" YouTube video by codebasics, [click here to view](https://youtu.be/8jazNUpO3lQ). Finding the square error function to predict house prices.\n",
    "\n",
    "Data taken from housing prices in my area, retrieved from Zillow on 12/9/2021."
   ]
  },
  {
   "cell_type": "code",
   "execution_count": 1,
   "id": "cca835a2",
   "metadata": {},
   "outputs": [],
   "source": [
    "import pandas as pd \n",
    "import numpy as np \n",
    "import matplotlib.pyplot as plt \n",
    "from sklearn import linear_model "
   ]
  },
  {
   "cell_type": "code",
   "execution_count": 2,
   "id": "776a7fd1",
   "metadata": {},
   "outputs": [
    {
     "data": {
      "text/html": [
       "<div>\n",
       "<style scoped>\n",
       "    .dataframe tbody tr th:only-of-type {\n",
       "        vertical-align: middle;\n",
       "    }\n",
       "\n",
       "    .dataframe tbody tr th {\n",
       "        vertical-align: top;\n",
       "    }\n",
       "\n",
       "    .dataframe thead th {\n",
       "        text-align: right;\n",
       "    }\n",
       "</style>\n",
       "<table border=\"1\" class=\"dataframe\">\n",
       "  <thead>\n",
       "    <tr style=\"text-align: right;\">\n",
       "      <th></th>\n",
       "      <th>sell_date</th>\n",
       "      <th>price_k</th>\n",
       "      <th>sqft</th>\n",
       "      <th>bed</th>\n",
       "      <th>bath</th>\n",
       "      <th>lot</th>\n",
       "      <th>year</th>\n",
       "      <th>garage_cars</th>\n",
       "    </tr>\n",
       "  </thead>\n",
       "  <tbody>\n",
       "    <tr>\n",
       "      <th>0</th>\n",
       "      <td>12/3/2021</td>\n",
       "      <td>447</td>\n",
       "      <td>3395</td>\n",
       "      <td>4</td>\n",
       "      <td>4</td>\n",
       "      <td>0.35</td>\n",
       "      <td>1997</td>\n",
       "      <td>2</td>\n",
       "    </tr>\n",
       "    <tr>\n",
       "      <th>1</th>\n",
       "      <td>12/3/2021</td>\n",
       "      <td>365</td>\n",
       "      <td>2750</td>\n",
       "      <td>3</td>\n",
       "      <td>4</td>\n",
       "      <td>0.25</td>\n",
       "      <td>1992</td>\n",
       "      <td>2</td>\n",
       "    </tr>\n",
       "    <tr>\n",
       "      <th>2</th>\n",
       "      <td>12/1/2021</td>\n",
       "      <td>450</td>\n",
       "      <td>2891</td>\n",
       "      <td>3</td>\n",
       "      <td>3</td>\n",
       "      <td>0.16</td>\n",
       "      <td>2017</td>\n",
       "      <td>2</td>\n",
       "    </tr>\n",
       "    <tr>\n",
       "      <th>3</th>\n",
       "      <td>11/29/2021</td>\n",
       "      <td>235</td>\n",
       "      <td>1392</td>\n",
       "      <td>2</td>\n",
       "      <td>1</td>\n",
       "      <td>0.20</td>\n",
       "      <td>1947</td>\n",
       "      <td>2</td>\n",
       "    </tr>\n",
       "    <tr>\n",
       "      <th>4</th>\n",
       "      <td>11/29/2021</td>\n",
       "      <td>145</td>\n",
       "      <td>1094</td>\n",
       "      <td>3</td>\n",
       "      <td>1</td>\n",
       "      <td>0.24</td>\n",
       "      <td>1921</td>\n",
       "      <td>0</td>\n",
       "    </tr>\n",
       "    <tr>\n",
       "      <th>5</th>\n",
       "      <td>11/15/2021</td>\n",
       "      <td>262</td>\n",
       "      <td>2068</td>\n",
       "      <td>3</td>\n",
       "      <td>2</td>\n",
       "      <td>0.23</td>\n",
       "      <td>1955</td>\n",
       "      <td>0</td>\n",
       "    </tr>\n",
       "    <tr>\n",
       "      <th>6</th>\n",
       "      <td>11/12/2021</td>\n",
       "      <td>444</td>\n",
       "      <td>3016</td>\n",
       "      <td>5</td>\n",
       "      <td>3</td>\n",
       "      <td>0.21</td>\n",
       "      <td>2019</td>\n",
       "      <td>2</td>\n",
       "    </tr>\n",
       "  </tbody>\n",
       "</table>\n",
       "</div>"
      ],
      "text/plain": [
       "    sell_date  price_k  sqft  bed  bath   lot  year  garage_cars\n",
       "0   12/3/2021      447  3395    4     4  0.35  1997            2\n",
       "1   12/3/2021      365  2750    3     4  0.25  1992            2\n",
       "2   12/1/2021      450  2891    3     3  0.16  2017            2\n",
       "3  11/29/2021      235  1392    2     1  0.20  1947            2\n",
       "4  11/29/2021      145  1094    3     1  0.24  1921            0\n",
       "5  11/15/2021      262  2068    3     2  0.23  1955            0\n",
       "6  11/12/2021      444  3016    5     3  0.21  2019            2"
      ]
     },
     "execution_count": 2,
     "metadata": {},
     "output_type": "execute_result"
    }
   ],
   "source": [
    "df = pd.read_csv(\"home_prices.csv\")\n",
    "df"
   ]
  },
  {
   "cell_type": "code",
   "execution_count": 4,
   "id": "64a787b0",
   "metadata": {},
   "outputs": [
    {
     "data": {
      "text/plain": [
       "<matplotlib.collections.PathCollection at 0x1f416d31370>"
      ]
     },
     "execution_count": 4,
     "metadata": {},
     "output_type": "execute_result"
    },
    {
     "data": {
      "image/png": "[encoded data removed]",
      "text/plain": [
       "<Figure size 432x288 with 1 Axes>"
      ]
     },
     "metadata": {
      "needs_background": "light"
     },
     "output_type": "display_data"
    }
   ],
   "source": [
    "# Plot the square footage and selling price\n",
    "\n",
    "%matplotlib inline\n",
    "\n",
    "plt.xlabel('Living Area, Square Feet')\n",
    "plt.ylabel('Price in 1,000s, USD')\n",
    "plt.scatter(df.sqft, df.price_k, marker=\"+\")"
   ]
  },
  {
   "cell_type": "code",
   "execution_count": 5,
   "id": "b2686b6d",
   "metadata": {},
   "outputs": [
    {
     "data": {
      "text/plain": [
       "LinearRegression()"
      ]
     },
     "execution_count": 5,
     "metadata": {},
     "output_type": "execute_result"
    }
   ],
   "source": [
    "#Built in L.R. method\n",
    "reg = linear_model.LinearRegression()\n",
    "reg.fit(df[['sqft']], df.price_k)"
   ]
  },
  {
   "cell_type": "code",
   "execution_count": 7,
   "id": "22718e77",
   "metadata": {},
   "outputs": [
    {
     "data": {
      "text/plain": [
       "array([461.33346816])"
      ]
     },
     "execution_count": 7,
     "metadata": {},
     "output_type": "execute_result"
    }
   ],
   "source": [
    "# Predict home price if square feet = 3300\n",
    "reg.predict([[3300]])"
   ]
  }
 ],
 "metadata": {
  "kernelspec": {
   "display_name": "Python 3 (ipykernel)",
   "language": "python",
   "name": "python3"
  },
  "language_info": {
   "codemirror_mode": {
    "name": "ipython",
    "version": 3
   },
   "file_extension": ".py",
   "mimetype": "text/x-python",
   "name": "python",
   "nbconvert_exporter": "python",
   "pygments_lexer": "ipython3",
   "version": "3.8.11"
  }
 },
 "nbformat": 4,
 "nbformat_minor": 5
}
