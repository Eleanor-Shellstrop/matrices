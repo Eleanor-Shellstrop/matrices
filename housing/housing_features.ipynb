{
 "cells": [
  {
   "cell_type": "markdown",
   "id": "b9111a1f",
   "metadata": {},
   "source": [
    "# Linear Regression Multiple Variables\n",
    "\n",
    "Loosely following from \"Machine Learning Tutorial Python,\" YouTube video by codebasics, [click here to view](https://youtu.be/J_LnPL3Qg70). Finding the square error function to predict house prices with multiple features.\n",
    "\n",
    "Data is my own list from houses recently sold in my area, retrieved from Zillow on 12/9/2021.\n",
    "\n",
    "**Note:** This is just for me to practice using the equations, matrices and machine learning. The sample size is way too small and too simple to make conclusions in real-world modeling. "
   ]
  },
  {
   "cell_type": "code",
   "execution_count": 1,
   "id": "64a7cd9e",
   "metadata": {},
   "outputs": [],
   "source": [
    "import pandas as pd\n",
    "import numpy as np\n",
    "from sklearn import linear_model\n",
    "import matplotlib.pyplot as plt "
   ]
  },
  {
   "cell_type": "code",
   "execution_count": 2,
   "id": "01b8aa2b",
   "metadata": {},
   "outputs": [
    {
     "data": {
      "text/html": [
       "<div>\n",
       "<style scoped>\n",
       "    .dataframe tbody tr th:only-of-type {\n",
       "        vertical-align: middle;\n",
       "    }\n",
       "\n",
       "    .dataframe tbody tr th {\n",
       "        vertical-align: top;\n",
       "    }\n",
       "\n",
       "    .dataframe thead th {\n",
       "        text-align: right;\n",
       "    }\n",
       "</style>\n",
       "<table border=\"1\" class=\"dataframe\">\n",
       "  <thead>\n",
       "    <tr style=\"text-align: right;\">\n",
       "      <th></th>\n",
       "      <th>sell_date</th>\n",
       "      <th>price_k</th>\n",
       "      <th>sqft</th>\n",
       "      <th>bed</th>\n",
       "      <th>bath</th>\n",
       "      <th>lot</th>\n",
       "      <th>year</th>\n",
       "      <th>garage_cars</th>\n",
       "    </tr>\n",
       "  </thead>\n",
       "  <tbody>\n",
       "    <tr>\n",
       "      <th>0</th>\n",
       "      <td>12/3/2021</td>\n",
       "      <td>447</td>\n",
       "      <td>3395</td>\n",
       "      <td>4</td>\n",
       "      <td>4</td>\n",
       "      <td>0.35</td>\n",
       "      <td>1997</td>\n",
       "      <td>2</td>\n",
       "    </tr>\n",
       "    <tr>\n",
       "      <th>1</th>\n",
       "      <td>12/3/2021</td>\n",
       "      <td>365</td>\n",
       "      <td>2750</td>\n",
       "      <td>3</td>\n",
       "      <td>4</td>\n",
       "      <td>0.25</td>\n",
       "      <td>1992</td>\n",
       "      <td>2</td>\n",
       "    </tr>\n",
       "    <tr>\n",
       "      <th>2</th>\n",
       "      <td>12/1/2021</td>\n",
       "      <td>450</td>\n",
       "      <td>2891</td>\n",
       "      <td>3</td>\n",
       "      <td>3</td>\n",
       "      <td>0.16</td>\n",
       "      <td>2017</td>\n",
       "      <td>2</td>\n",
       "    </tr>\n",
       "    <tr>\n",
       "      <th>3</th>\n",
       "      <td>11/29/2021</td>\n",
       "      <td>235</td>\n",
       "      <td>1392</td>\n",
       "      <td>2</td>\n",
       "      <td>1</td>\n",
       "      <td>0.20</td>\n",
       "      <td>1947</td>\n",
       "      <td>2</td>\n",
       "    </tr>\n",
       "    <tr>\n",
       "      <th>4</th>\n",
       "      <td>11/29/2021</td>\n",
       "      <td>145</td>\n",
       "      <td>1094</td>\n",
       "      <td>3</td>\n",
       "      <td>1</td>\n",
       "      <td>0.24</td>\n",
       "      <td>1921</td>\n",
       "      <td>0</td>\n",
       "    </tr>\n",
       "  </tbody>\n",
       "</table>\n",
       "</div>"
      ],
      "text/plain": [
       "    sell_date  price_k  sqft  bed  bath   lot  year  garage_cars\n",
       "0   12/3/2021      447  3395    4     4  0.35  1997            2\n",
       "1   12/3/2021      365  2750    3     4  0.25  1992            2\n",
       "2   12/1/2021      450  2891    3     3  0.16  2017            2\n",
       "3  11/29/2021      235  1392    2     1  0.20  1947            2\n",
       "4  11/29/2021      145  1094    3     1  0.24  1921            0"
      ]
     },
     "execution_count": 2,
     "metadata": {},
     "output_type": "execute_result"
    }
   ],
   "source": [
    "# Import csv to df\n",
    "df = pd.read_csv('home_prices.csv')\n",
    "df.head()"
   ]
  },
  {
   "cell_type": "code",
   "execution_count": 3,
   "id": "986f5556",
   "metadata": {},
   "outputs": [],
   "source": [
    "# GOAL\n",
    "# Hypothesis: hθ(x) = θ0 + θ1x1 + θ2x2 + ... + θnxn\n",
    "# coefficients (m1, m2, ..., mn), intercept b\n",
    "# x1 = m1 and so on for features\n",
    "\n",
    "\n",
    "# If need to clean data from NAs, \n",
    "# Find median value and insert into\n",
    "# NAs, like example below:\n",
    "\n",
    "import math\n",
    "median_bedrooms = math.floor(df.bed.median())\n",
    "df.bed = df.bed.fillna(median_bedrooms)"
   ]
  },
  {
   "cell_type": "code",
   "execution_count": 4,
   "id": "c3ad7066",
   "metadata": {},
   "outputs": [
    {
     "data": {
      "text/html": [
       "<div>\n",
       "<style scoped>\n",
       "    .dataframe tbody tr th:only-of-type {\n",
       "        vertical-align: middle;\n",
       "    }\n",
       "\n",
       "    .dataframe tbody tr th {\n",
       "        vertical-align: top;\n",
       "    }\n",
       "\n",
       "    .dataframe thead th {\n",
       "        text-align: right;\n",
       "    }\n",
       "</style>\n",
       "<table border=\"1\" class=\"dataframe\">\n",
       "  <thead>\n",
       "    <tr style=\"text-align: right;\">\n",
       "      <th></th>\n",
       "      <th>sell_date</th>\n",
       "      <th>price_k</th>\n",
       "      <th>sqft</th>\n",
       "      <th>bed</th>\n",
       "      <th>bath</th>\n",
       "      <th>lot</th>\n",
       "      <th>year</th>\n",
       "      <th>garage_cars</th>\n",
       "      <th>age</th>\n",
       "    </tr>\n",
       "  </thead>\n",
       "  <tbody>\n",
       "    <tr>\n",
       "      <th>0</th>\n",
       "      <td>12/3/2021</td>\n",
       "      <td>447</td>\n",
       "      <td>3395</td>\n",
       "      <td>4</td>\n",
       "      <td>4</td>\n",
       "      <td>0.35</td>\n",
       "      <td>1997</td>\n",
       "      <td>2</td>\n",
       "      <td>24</td>\n",
       "    </tr>\n",
       "    <tr>\n",
       "      <th>1</th>\n",
       "      <td>12/3/2021</td>\n",
       "      <td>365</td>\n",
       "      <td>2750</td>\n",
       "      <td>3</td>\n",
       "      <td>4</td>\n",
       "      <td>0.25</td>\n",
       "      <td>1992</td>\n",
       "      <td>2</td>\n",
       "      <td>29</td>\n",
       "    </tr>\n",
       "    <tr>\n",
       "      <th>2</th>\n",
       "      <td>12/1/2021</td>\n",
       "      <td>450</td>\n",
       "      <td>2891</td>\n",
       "      <td>3</td>\n",
       "      <td>3</td>\n",
       "      <td>0.16</td>\n",
       "      <td>2017</td>\n",
       "      <td>2</td>\n",
       "      <td>4</td>\n",
       "    </tr>\n",
       "    <tr>\n",
       "      <th>3</th>\n",
       "      <td>11/29/2021</td>\n",
       "      <td>235</td>\n",
       "      <td>1392</td>\n",
       "      <td>2</td>\n",
       "      <td>1</td>\n",
       "      <td>0.20</td>\n",
       "      <td>1947</td>\n",
       "      <td>2</td>\n",
       "      <td>74</td>\n",
       "    </tr>\n",
       "    <tr>\n",
       "      <th>4</th>\n",
       "      <td>11/29/2021</td>\n",
       "      <td>145</td>\n",
       "      <td>1094</td>\n",
       "      <td>3</td>\n",
       "      <td>1</td>\n",
       "      <td>0.24</td>\n",
       "      <td>1921</td>\n",
       "      <td>0</td>\n",
       "      <td>100</td>\n",
       "    </tr>\n",
       "    <tr>\n",
       "      <th>5</th>\n",
       "      <td>11/15/2021</td>\n",
       "      <td>262</td>\n",
       "      <td>2068</td>\n",
       "      <td>3</td>\n",
       "      <td>2</td>\n",
       "      <td>0.23</td>\n",
       "      <td>1955</td>\n",
       "      <td>0</td>\n",
       "      <td>66</td>\n",
       "    </tr>\n",
       "    <tr>\n",
       "      <th>6</th>\n",
       "      <td>11/12/2021</td>\n",
       "      <td>444</td>\n",
       "      <td>3016</td>\n",
       "      <td>5</td>\n",
       "      <td>3</td>\n",
       "      <td>0.21</td>\n",
       "      <td>2019</td>\n",
       "      <td>2</td>\n",
       "      <td>2</td>\n",
       "    </tr>\n",
       "  </tbody>\n",
       "</table>\n",
       "</div>"
      ],
      "text/plain": [
       "    sell_date  price_k  sqft  bed  bath   lot  year  garage_cars  age\n",
       "0   12/3/2021      447  3395    4     4  0.35  1997            2   24\n",
       "1   12/3/2021      365  2750    3     4  0.25  1992            2   29\n",
       "2   12/1/2021      450  2891    3     3  0.16  2017            2    4\n",
       "3  11/29/2021      235  1392    2     1  0.20  1947            2   74\n",
       "4  11/29/2021      145  1094    3     1  0.24  1921            0  100\n",
       "5  11/15/2021      262  2068    3     2  0.23  1955            0   66\n",
       "6  11/12/2021      444  3016    5     3  0.21  2019            2    2"
      ]
     },
     "execution_count": 4,
     "metadata": {},
     "output_type": "execute_result"
    }
   ],
   "source": [
    "# Add age in years of house\n",
    "\n",
    "df['age'] = (2021 - df.year)\n",
    "df"
   ]
  },
  {
   "cell_type": "code",
   "execution_count": 5,
   "id": "dde159de",
   "metadata": {},
   "outputs": [
    {
     "data": {
      "image/png": "[encoded data removed]",
      "text/plain": [
       "<Figure size 432x288 with 6 Axes>"
      ]
     },
     "metadata": {
      "needs_background": "light"
     },
     "output_type": "display_data"
    }
   ],
   "source": [
    "# Plot to see what features \n",
    "# coorelate to price and which\n",
    "# do not have much, if any,\n",
    "# impact on sale price\n",
    "\n",
    "fig, axs = plt.subplots(3, 2)\n",
    "\n",
    "axs[0, 0].scatter(df.sqft, df.price_k)\n",
    "axs[0, 0].set_title(\"Square footage\")\n",
    "\n",
    "axs[0, 1].scatter(df.bed, df.price_k)\n",
    "axs[0, 1].set_title(\"Number of Bedrooms\")\n",
    "\n",
    "axs[1, 0].scatter(df.bath, df.price_k)\n",
    "axs[1, 0].set_title(\"Number of Bathrooms\")\n",
    "\n",
    "axs[1, 1].scatter(df.lot, df.price_k)\n",
    "axs[1, 1].set_title(\"Lot Size in Acres\")\n",
    "\n",
    "axs[2, 0].scatter(df. garage_cars, df.price_k)\n",
    "axs[2, 0].set_title(\"Number of Cars Fit in Garage\")\n",
    "\n",
    "axs[2, 1].scatter(df.age, df.price_k)\n",
    "axs[2, 1].set_title(\"Age of House in Years\")\n",
    "\n",
    "fig.tight_layout()"
   ]
  },
  {
   "cell_type": "markdown",
   "id": "30e664d2",
   "metadata": {},
   "source": [
    "The three that most coorelate are square footage, number of bathrooms, and age of house. "
   ]
  },
  {
   "cell_type": "code",
   "execution_count": 6,
   "id": "4247d680",
   "metadata": {},
   "outputs": [
    {
     "data": {
      "text/plain": [
       "LinearRegression()"
      ]
     },
     "execution_count": 6,
     "metadata": {},
     "output_type": "execute_result"
    }
   ],
   "source": [
    "# Coefficient returns our m1, m2, ... m6\n",
    "\n",
    "# Create class object\n",
    "reg = linear_model.LinearRegression()\n",
    "\n",
    "# Train model with df\n",
    "reg.fit(df[['sqft', 'bath', 'age']], df['price_k'])\n",
    "\n",
    "# Could also assign to variables:\n",
    "# X = df[['sqft', 'bed', 'bath', 'lot', 'garage_cars', 'age']]\n",
    "# y = df['price_k']"
   ]
  },
  {
   "cell_type": "code",
   "execution_count": 7,
   "id": "ce01e1f8",
   "metadata": {},
   "outputs": [
    {
     "data": {
      "text/plain": [
       "array([  0.09140752, -18.14543229,  -1.73424394])"
      ]
     },
     "execution_count": 7,
     "metadata": {},
     "output_type": "execute_result"
    }
   ],
   "source": [
    "reg.coef_"
   ]
  },
  {
   "cell_type": "code",
   "execution_count": 8,
   "id": "08fce5a6",
   "metadata": {},
   "outputs": [
    {
     "data": {
      "text/plain": [
       "239.32048891601676"
      ]
     },
     "execution_count": 8,
     "metadata": {},
     "output_type": "execute_result"
    }
   ],
   "source": [
    "reg.intercept_"
   ]
  },
  {
   "cell_type": "code",
   "execution_count": 9,
   "id": "1709bb3c",
   "metadata": {},
   "outputs": [
    {
     "data": {
      "text/plain": [
       "array([354.46545247])"
      ]
     },
     "execution_count": 9,
     "metadata": {},
     "output_type": "execute_result"
    }
   ],
   "source": [
    "# Predict price of home\n",
    "# Test 1:\n",
    "# 2150 sqft, 2 bath, 26 years old\n",
    "\n",
    "reg.predict([[2150, 2, 26]])"
   ]
  },
  {
   "cell_type": "code",
   "execution_count": 10,
   "id": "dc362ce5",
   "metadata": {},
   "outputs": [
    {
     "data": {
      "text/plain": [
       "array([307.19808504])"
      ]
     },
     "execution_count": 10,
     "metadata": {},
     "output_type": "execute_result"
    }
   ],
   "source": [
    "# Test 2:\n",
    "# 1700 sqft, 1 bath, 40 years old\n",
    "\n",
    "reg.predict([[1700, 1, 40]])"
   ]
  },
  {
   "cell_type": "code",
   "execution_count": 11,
   "id": "2aabaf4d",
   "metadata": {},
   "outputs": [
    {
     "data": {
      "text/plain": [
       "array([488.73278841])"
      ]
     },
     "execution_count": 11,
     "metadata": {},
     "output_type": "execute_result"
    }
   ],
   "source": [
    "# Test 3:\n",
    "# 3400 sqft, 3 bath, 4 years old\n",
    "\n",
    "reg.predict([[3400, 3, 4]])"
   ]
  },
  {
   "cell_type": "code",
   "execution_count": 15,
   "id": "84814e25",
   "metadata": {},
   "outputs": [],
   "source": [
    "d = {\n",
    "    'area': [900, 1200, 1500, 1750, 2000, 2500, 3000, 3500, 4000, 4500, 5000],\n",
    "    'baths': [1, 1, 1.5, 1, 2, 1.5, 2, 2, 2.5, 3, 3],\n",
    "    'age': [81, 50, 48, 15, 10, 53, 7, 4, 12, 9, 5]\n",
    "}\n",
    "df2 = pd.DataFrame(data=d)\n",
    "\n",
    "prices = reg.predict(np.array(df2))"
   ]
  },
  {
   "cell_type": "code",
   "execution_count": 16,
   "id": "41f71f71",
   "metadata": {},
   "outputs": [
    {
     "data": {
      "text/html": [
       "<div>\n",
       "<style scoped>\n",
       "    .dataframe tbody tr th:only-of-type {\n",
       "        vertical-align: middle;\n",
       "    }\n",
       "\n",
       "    .dataframe tbody tr th {\n",
       "        vertical-align: top;\n",
       "    }\n",
       "\n",
       "    .dataframe thead th {\n",
       "        text-align: right;\n",
       "    }\n",
       "</style>\n",
       "<table border=\"1\" class=\"dataframe\">\n",
       "  <thead>\n",
       "    <tr style=\"text-align: right;\">\n",
       "      <th></th>\n",
       "      <th>area</th>\n",
       "      <th>baths</th>\n",
       "      <th>age</th>\n",
       "      <th>est_price_in_k</th>\n",
       "    </tr>\n",
       "  </thead>\n",
       "  <tbody>\n",
       "    <tr>\n",
       "      <th>0</th>\n",
       "      <td>900</td>\n",
       "      <td>1.0</td>\n",
       "      <td>81</td>\n",
       "      <td>162.968066</td>\n",
       "    </tr>\n",
       "    <tr>\n",
       "      <th>1</th>\n",
       "      <td>1200</td>\n",
       "      <td>1.0</td>\n",
       "      <td>50</td>\n",
       "      <td>244.151885</td>\n",
       "    </tr>\n",
       "    <tr>\n",
       "      <th>2</th>\n",
       "      <td>1500</td>\n",
       "      <td>1.5</td>\n",
       "      <td>48</td>\n",
       "      <td>265.969913</td>\n",
       "    </tr>\n",
       "    <tr>\n",
       "      <th>3</th>\n",
       "      <td>1750</td>\n",
       "      <td>1.0</td>\n",
       "      <td>15</td>\n",
       "      <td>355.124560</td>\n",
       "    </tr>\n",
       "    <tr>\n",
       "      <th>4</th>\n",
       "      <td>2000</td>\n",
       "      <td>2.0</td>\n",
       "      <td>10</td>\n",
       "      <td>368.502227</td>\n",
       "    </tr>\n",
       "    <tr>\n",
       "      <th>5</th>\n",
       "      <td>2500</td>\n",
       "      <td>1.5</td>\n",
       "      <td>53</td>\n",
       "      <td>348.706215</td>\n",
       "    </tr>\n",
       "    <tr>\n",
       "      <th>6</th>\n",
       "      <td>3000</td>\n",
       "      <td>2.0</td>\n",
       "      <td>7</td>\n",
       "      <td>465.112480</td>\n",
       "    </tr>\n",
       "    <tr>\n",
       "      <th>7</th>\n",
       "      <td>3500</td>\n",
       "      <td>2.0</td>\n",
       "      <td>4</td>\n",
       "      <td>516.018973</td>\n",
       "    </tr>\n",
       "    <tr>\n",
       "      <th>8</th>\n",
       "      <td>4000</td>\n",
       "      <td>2.5</td>\n",
       "      <td>12</td>\n",
       "      <td>538.776066</td>\n",
       "    </tr>\n",
       "    <tr>\n",
       "      <th>9</th>\n",
       "      <td>4500</td>\n",
       "      <td>3.0</td>\n",
       "      <td>9</td>\n",
       "      <td>580.609842</td>\n",
       "    </tr>\n",
       "    <tr>\n",
       "      <th>10</th>\n",
       "      <td>5000</td>\n",
       "      <td>3.0</td>\n",
       "      <td>5</td>\n",
       "      <td>633.250578</td>\n",
       "    </tr>\n",
       "  </tbody>\n",
       "</table>\n",
       "</div>"
      ],
      "text/plain": [
       "    area  baths  age  est_price_in_k\n",
       "0    900    1.0   81      162.968066\n",
       "1   1200    1.0   50      244.151885\n",
       "2   1500    1.5   48      265.969913\n",
       "3   1750    1.0   15      355.124560\n",
       "4   2000    2.0   10      368.502227\n",
       "5   2500    1.5   53      348.706215\n",
       "6   3000    2.0    7      465.112480\n",
       "7   3500    2.0    4      516.018973\n",
       "8   4000    2.5   12      538.776066\n",
       "9   4500    3.0    9      580.609842\n",
       "10  5000    3.0    5      633.250578"
      ]
     },
     "execution_count": 16,
     "metadata": {},
     "output_type": "execute_result"
    }
   ],
   "source": [
    "df2['est_price_in_k'] = prices\n",
    "df2"
   ]
  },
  {
   "cell_type": "code",
   "execution_count": 27,
   "id": "740243fe",
   "metadata": {},
   "outputs": [
    {
     "data": {
      "text/plain": [
       "<matplotlib.legend.Legend at 0x127597373a0>"
      ]
     },
     "execution_count": 27,
     "metadata": {},
     "output_type": "execute_result"
    },
    {
     "data": {
      "image/png": "[encoded data removed]",
      "text/plain": [
       "<Figure size 432x288 with 1 Axes>"
      ]
     },
     "metadata": {
      "needs_background": "light"
     },
     "output_type": "display_data"
    }
   ],
   "source": [
    "# New chart with actual, predicted: Square Footage\n",
    "\n",
    "%matplotlib inline\n",
    "\n",
    "# Actual prices\n",
    "plt.xlabel('Living Area, Square Feet')\n",
    "plt.ylabel('Price in 1,000s, USD')\n",
    "plt.scatter(df.sqft, df.price_k, marker=\"+\", label=\"Actual house prices\")\n",
    "\n",
    "# Predicted prices\n",
    "plt.plot(df2.area, df2.est_price_in_k, \"yo\", label=\"Predicted house prices\")\n",
    "\n",
    "plt.title(\"Square Footage of Homes with Actual and Predicted Prices\")\n",
    "plt.legend()"
   ]
  },
  {
   "cell_type": "code",
   "execution_count": 28,
   "id": "c85051ed",
   "metadata": {},
   "outputs": [
    {
     "data": {
      "text/plain": [
       "<matplotlib.legend.Legend at 0x12759923700>"
      ]
     },
     "execution_count": 28,
     "metadata": {},
     "output_type": "execute_result"
    },
    {
     "data": {
      "image/png": "[encoded data removed]",
      "text/plain": [
       "<Figure size 432x288 with 1 Axes>"
      ]
     },
     "metadata": {
      "needs_background": "light"
     },
     "output_type": "display_data"
    }
   ],
   "source": [
    "# New chart with actual, predicted: Bathrooms\n",
    "\n",
    "%matplotlib inline\n",
    "\n",
    "# Actual prices\n",
    "plt.xlabel('Number of Baths')\n",
    "plt.ylabel('Price in 1,000s, USD')\n",
    "plt.scatter(df.bath, df.price_k, marker=\"+\", color=\"green\", label=\"Actual house prices\")\n",
    "\n",
    "# Predicted prices\n",
    "plt.plot(df2.baths, df2.est_price_in_k, \"yo\", label=\"Predicted house prices\")\n",
    "\n",
    "plt.title(\"Number of Bathrooms in Homes with Actual and Predicted Prices\")\n",
    "plt.legend()"
   ]
  },
  {
   "cell_type": "code",
   "execution_count": 30,
   "id": "697611e0",
   "metadata": {},
   "outputs": [
    {
     "data": {
      "text/plain": [
       "<matplotlib.legend.Legend at 0x1275a94b8e0>"
      ]
     },
     "execution_count": 30,
     "metadata": {},
     "output_type": "execute_result"
    },
    {
     "data": {
      "image/png": "[encoded data removed]",
      "text/plain": [
       "<Figure size 432x288 with 1 Axes>"
      ]
     },
     "metadata": {
      "needs_background": "light"
     },
     "output_type": "display_data"
    }
   ],
   "source": [
    "# New chart with actual, predicted: Age of House\n",
    "\n",
    "%matplotlib inline\n",
    "\n",
    "# Actual prices\n",
    "plt.xlabel('Age of Home in Years')\n",
    "plt.ylabel('Price in 1,000s, USD')\n",
    "plt.scatter(df.age, df.price_k, marker=\"+\", color=\"purple\", label=\"Actual house prices\")\n",
    "\n",
    "# Predicted prices\n",
    "plt.plot(df2.age, df2.est_price_in_k, \"yo\", label=\"Predicted house prices\")\n",
    "\n",
    "plt.title(\"Age of Homes with Actual and Predicted Prices\")\n",
    "plt.legend()"
   ]
  }
 ],
 "metadata": {
  "kernelspec": {
   "display_name": "Python 3 (ipykernel)",
   "language": "python",
   "name": "python3"
  },
  "language_info": {
   "codemirror_mode": {
    "name": "ipython",
    "version": 3
   },
   "file_extension": ".py",
   "mimetype": "text/x-python",
   "name": "python",
   "nbconvert_exporter": "python",
   "pygments_lexer": "ipython3",
   "version": "3.8.11"
  }
 },
 "nbformat": 4,
 "nbformat_minor": 5
}
